{
  "nbformat": 4,
  "nbformat_minor": 0,
  "metadata": {
    "colab": {
      "provenance": []
    },
    "kernelspec": {
      "name": "python3",
      "display_name": "Python 3"
    },
    "language_info": {
      "name": "python"
    }
  },
  "cells": [
    {
      "cell_type": "markdown",
      "source": [
        "#**Deep Learning Frameworks Assignment**"
      ],
      "metadata": {
        "id": "w2kc2KEz4fzD"
      }
    },
    {
      "cell_type": "markdown",
      "source": [
        "#**Theory Questions**"
      ],
      "metadata": {
        "id": "ifn36zqf4mVz"
      }
    },
    {
      "cell_type": "markdown",
      "source": [
        "**Q 1 What is TensorFlow 2.0, and how is it different from TensorFlow 1.x?**\n",
        "  - TensorFlow 2.0 is a major update to the open-source machine learning library TensorFlow, designed to be more user-friendly, intuitive, and Pythonic compared to its predecessor, TensorFlow 1.x.\n",
        "  - Key differences from TensorFlow 1.x include:\n",
        "    1. Eager Execution by Default.\n",
        "    2. API Simplification and Consistency.\n",
        "    3. No More Sessions and Placeholders.\n",
        "    4. tf.function for Performance.\n",
        "    5. Improved Model Building and Deployment.\n",
        "    6. Enhanced Automatic Differentiation.\n",
        "\n",
        "**Q 2 How do you install TensorFlow 2.0?**\n",
        "  - **pip install tensorflow==2.0.0** using pip in python terminal.\n",
        "\n",
        "**Q 3 What is the primary function of the tf.function in TensorFlow 2.0?**\n",
        "  - The primary function of tf.function in TensorFlow 2.0 is to transform regular Python functions into callable TensorFlow graph operations, enabling significant performance improvements and portability.\n",
        "\n",
        "**Q 4 What is the purpose of the Model class in TensorFlow 2.0?**\n",
        "  - The tf.keras.Model class in TensorFlow 2.0 serves as the central abstraction for building, training, and deploying machine learning models.\n",
        "  - A Model object groups together a collection of tf.keras.layers.Layer objects, representing the architecture of a neural network. It encapsulates the forward pass (how input data flows through the layers to produce output) and manages the trainable parameters (weights and biases) of these layers.\n",
        "\n",
        "**Q 5 How do you create a neural network using TensorFlow 2.0?**\n",
        "  - Creating a neural network using TensorFlow 2.0 primarily involves leveraging the Keras API, which is integrated directly into TensorFlow. The process typically follows these steps: Import TensorFlow and Keras\n",
        "  - import tensorflow as tf\n",
        "\n",
        "    from tensorflow import keras\n",
        "\n",
        "    model = keras.Sequential([\n",
        "            keras.layers.Dense(units=64, activation='relu', input_shape=(input_dimension,)),\n",
        "            keras.layers.Dense(units=32, activation='relu'),\n",
        "            keras.layers.Dense(units=output_dimension, activation='softmax') # For classification\n",
        "            # or 'linear' for regression\n",
        "        ])\n",
        "\n",
        "**Q 6 What is the importance of Tensor Space in TensorFlow?**\n",
        "  - TensorFlow's name itself highlights the central importance of \"tensors\" and their \"flow\" through a computation graph. In this context, \"Tensor Space\" refers to the conceptual domain where these tensors exist and are manipulated.\n",
        "\n",
        "**Q 7 How can TensorBoard be integrated with TensorFlow 2.0?**\n",
        "  - TensorBoard can be integrated with TensorFlow 2.0 primarily through the use of Keras Callbacks and tf.summary APIs for custom logging.\n",
        "      1. Using the TensorBoard Keras Callback:This is the most common and straightforward method for integrating TensorBoard during model training with Keras. Import the callback.\n",
        "\n",
        "              from tensorflow.keras.callbacks import TensorBoard\n",
        "\n",
        "              log_dir = \"logs/fit/\" # Choose a suitable directory\n",
        "              tensorboard_callback = TensorBoard(log_dir=log_dir, histogram_freq=1) # histogram_freq logs histograms of weights/biases\n",
        "\n",
        "              model.fit(x_train, y_train, epochs=10, callbacks=[tensorboard_callback])\n",
        "\n",
        "              tensorboard --logdir logs/fit\n",
        "\n",
        "    2. Using tf.summary APIs for Custom Logging:For more granular control over what you log or for logging outside of Keras's fit method, you can use the tf.summary APIs directly.\n",
        "\n",
        "                  import tensorflow as tf\n",
        "                  log_dir = \"logs/custom_logs/\"\n",
        "                  writer = tf.summary.create_file_writer(log_dir)\n",
        "\n",
        "                  with writer.as_default():\n",
        "                  tf.summary.scalar('my_metric', my_value, step=global_step)\n",
        "                  tf.summary.image('my_image', my_image_tensor, step=global_step)\n",
        "                  # Other summary types: histogram, text, audio, etc.\n",
        "\n",
        "                  tensorboard --logdir logs/custom_logs\n",
        "\n",
        "    3.  Using TensorBoard in Jupyter/Colab Notebooks:TensorBoard can also be seamlessly integrated within Jupyter or Colab notebooks using magic commands. Load the TensorBoard extension.\n",
        "\n",
        "                  %load_ext tensorboard\n",
        "                  %tensorboard --logdir logs/fit\n",
        "\n",
        "**Q 8 What is the purpose of TensorFlow Playground?**\n",
        "  - TensorFlow Playground is a web-based, interactive tool designed to help users understand and visualize how neural networks work.\n",
        "\n",
        "**Q 9 What is Netron, and how is it useful for deep learning models?**\n",
        "  - Neutron imaging technology is a non-destructive testing method that uses the interaction characteristics between neutrons and matter to obtain images. In the process of neutron imaging, it will be affected by many noises.\n",
        "\n",
        "**Q 10 What is the difference between TensorFlow and PyTorch?**\n",
        "  - TensorFlow and PyTorch are both open-source deep learning frameworks, but they differ in several key aspects:\n",
        "  1. Computation Graph:\n",
        "      - PyTorch:Uses a dynamic computation graph (defined at runtime), enabling more flexibility and easier debugging. This allows for imperative programming, where operations are executed immediately.\n",
        "      - TensorFlow:Primarily uses a static computation graph (defined before runtime), which can offer performance advantages for large-scale production deployments due to optimizations. TensorFlow 2.x introduced \"eager execution\" for a more PyTorch-like dynamic experience.\n",
        "  2. Ease of Use and Debugging:\n",
        "      - PyTorch:Often considered more Python-friendly and intuitive for researchers and those new to deep learning due to its dynamic nature and integration with standard Python debugging tools.\n",
        "      - TensorFlow:While powerful, its static graph approach traditionally required a different debugging mindset. Eager execution in TensorFlow 2.x has significantly improved the debugging experience.\n",
        "  3. Deployment and Production:\n",
        "      - TensorFlow:Historically, TensorFlow has a more mature ecosystem for production deployment, including tools like TensorFlow Serving, TensorFlow Lite for mobile/edge devices, and TFLearn.\n",
        "      - PyTorch:While PyTorch's deployment capabilities are rapidly improving, it may require more manual setup for complex production environments compared to TensorFlow's integrated solutions.\n",
        "  4. Community and Adoption:\n",
        "      - TensorFlow:Developed by Google, it has a large and established community with extensive resources, tutorials, and a wide industry adoption.\n",
        "      - PyTorch:Developed by Facebook's AI Research lab, it has gained rapid popularity, especially in the research community, due to its flexibility and ease of use.\n",
        "  5. Visualization and Tools:\n",
        "      - TensorFlow:Offers TensorBoard, a powerful visualization tool for monitoring training progress, model graphs, and more.\n",
        "      - PyTorch:Lacks a built-in visualization tool like TensorBoard, requiring users to integrate with third-party solutions or implement custom logging.\n",
        "\n",
        "**Q 11 How do you install PyTorch?**\n",
        "  - Installing PyTorch typically involves a few steps, primarily using pip or conda within a Python environment. **pip install torch torchvision torchaudio --index-url https://download.pytorch.org/whl/cpu**\n",
        "\n",
        "**Q 12 What is the basic structure of a PyTorch neural network?**\n",
        "  - The basic structure of a PyTorch neural network is built around the **torch.nn.Module** class. A neural network in PyTorch is essentially a collection of interconnected modules (layers), where each module itself can contain other modules, allowing for complex, nested architectures.\n",
        "\n",
        "**Q 13 What is the significance of tensors in PyTorch?**\n",
        "  - Tensors are the fundamental building blocks and the central data structure in PyTorch, playing a crucial role in various aspects of deep learning development.\n",
        "\n",
        "**Q 14 What is the difference between torch.Tensor and torch.cuda.Tensor in PyTorch?**\n",
        "  - The fundamental difference between torch.Tensor and torch.cuda.Tensor in PyTorch lies in the device where their data is stored and where computations are performed.\n",
        "  1. torch.Tensor : This refers to a tensor whose data resides in CPU memory. Operations performed on a torch.Tensor are executed by the CPU. This is the default tensor type when creating a new tensor without explicitly specifying a device.\n",
        "  2. torch.cuda.Tensor : This refers to a tensor whose data resides in GPU memory (specifically, CUDA-enabled NVIDIA GPUs). Operations performed on a torch.cuda.Tensor are executed by the GPU, leveraging its parallel processing capabilities for potentially significant speedups in computationally intensive tasks like deep learning model training.\n",
        "\n",
        "**Q 15 What is the purpose of the torch.optim module in PyTorch?**\n",
        "  - The torch.optim module in PyTorch serves the purpose of providing various optimization algorithms used to update the parameters of a neural network during the training process. Its primary function is to simplify and automate the process of adjusting the model's weights and biases to minimize a given loss function.\n",
        "\n",
        "**Q 16 What are some common activation functions used in neural networks?**\n",
        "  - Common activation functions in neural networks include Sigmoid, ReLU, Tanh, and Softmax. These functions introduce non-linearity, enabling the network to learn complex patterns in data. ReLU is widely used, particularly in Convolutional Neural Networks\n",
        "  - Here's a more detailed look:\n",
        "    1. Sigmoid:Outputs a value between 0 and 1, often used in the output layer for binary classification.\n",
        "    2. ReLU (Rectified Linear Unit):Outputs the input if it's positive, and 0 otherwise. It's computationally efficient and widely used.\n",
        "    3. Tanh (Hyperbolic Tangent):Outputs a value between -1 and 1, often used in hidden layers.\n",
        "    4. Softmax:Used in the output layer for multi-class classification, producing a probability distribution over multiple classes.\n",
        "\n",
        "**Q 17 What is the difference between torch.nn.Module and torch.nn.Sequential in PyTorch?**\n",
        "  - torch.nn.Module is the base class for all neural network modules in PyTorch. Any custom neural network architecture or layer you define in PyTorch will typically inherit from torch.nn.Module. It provides the fundamental functionalities for building and managing neural networks.\n",
        "\n",
        "**Q 18 How can you monitor training progress in TensorFlow 2.0?**\n",
        "  - Monitoring training progress in TensorFlow 2.0 is primarily achieved through the use of TensorBoard, a powerful visualization tool included with TensorFlow.\n",
        "  1. Setting up TensorBoard:Import TensorBoard callback: Within your Keras model, import the TensorBoard callback.\n",
        "\n",
        "          from tensorflow.keras.callbacks import TensorBoard\n",
        "\n",
        "  - Define a log directory: Specify a directory where TensorBoard will store the event files containing the training logs.\n",
        "\n",
        "          log_dir = \"logs/fit/\" # Example directory\n",
        "          tensorboard_callback = TensorBoard(log_dir=log_dir, histogram_freq=1)\n",
        "\n",
        "  - histogram_freq=1 ensures that histograms of weights and biases are recorded every epoch, which can be useful for debugging.\n",
        "  - Add the callback to model.fit(): When training your model, include the tensorboard_callback in the callbacks argument of the model.fit() method.\n",
        "\n",
        "              model.fit(x_train, y_train, epochs=10, callbacks=[tensorboard_callback])\n",
        "\n",
        "\n",
        "  2. 2. Launching TensorBoard:\n",
        "  - From the command line: Navigate to the parent directory of your log_dir and run:\n",
        "\n",
        "              tensorboard --logdir logs/fit\n",
        "  - Within a Jupyter Notebook or Google Colab: Use the line magic command:\n",
        "Python\n",
        "\n",
        "               %load_ext tensorboard\n",
        "               %tensorboard --logdir logs/fit\n",
        "\n",
        "  3. Visualizing with TensorBoard:Once launched, TensorBoard provides a web-based interface with various dashboards to monitor training progress:\n",
        "     1. Scalars:Visualize how metrics like loss, accuracy, learning rate, and other scalar values change over epochs or steps.\n",
        "     2. Graphs:Explore the computational graph of your model, ensuring it's built as expected.\n",
        "     3. Histograms and Distributions: Analyze the distribution of weights, biases, and other tensors over time, which can help detect issues like vanishing or exploding gradients.\n",
        "     4. Time Series:View time-series plots of various metrics.\n",
        "  4. Other Monitoring Techniques: While TensorBoard is the primary method, other techniques can supplement monitoring:\n",
        "    - Printing metrics during training:You can configure your model.fit() call to print loss and metric values at the end of each epoch.\n",
        "    - Custom callbacks:Create custom Keras callbacks to perform specific actions or log custom metrics during training.\n",
        "    - Manual plotting: For simpler cases, you can store loss and metric values in lists and then use libraries like Matplotlib to create custom plots.\n",
        "\n",
        "**Q 19 How does the Keras API fit into TensorFlow 2.0?**\n",
        "  - TensorFlow 2.0 has fully embraced Keras as its official high-level API for building and training deep learning models. This integration means that Keras is no longer a separate library that can use different backends (like Theano or CNTK); instead, it is directly built into TensorFlow and accessed through the tf.keras module.\n",
        "\n",
        "**Q 20 What is an example of a deep learning project that can be implemented using TensorFlow 2.0?**\n",
        "  - An example of a deep learning project implementable with TensorFlow 2.0 is Image Classification using a Convolutional Neural Network (CNN).\n",
        "  - This project involves training a CNN to categorize images into predefined classes. For instance, one could build a model to classify images of animals (e.g., cats, dogs, birds) or objects (e.g., cars, bicycles, airplanes).\n",
        "  -  Mnimist handwritten numbers or minimist fasion data sets.\n",
        "\n",
        "**Q 21 What is the main advantage of using pre-trained models in TensorFlow and PyTorch?**\n",
        "  - The main advantage of using pre-trained models in TensorFlow and PyTorch is the ability to leverage transfer learning, which significantly reduces development time, computational resources, and data requirements while often leading to improved model performance.\n",
        "  - Pre-trained models have already learned a vast amount of general features and patterns from massive datasets (e.g., ImageNet for computer vision or large text corpora for natural language processing). By using these models as a starting point and fine-tuning them on a smaller, domain-specific dataset, developers."
      ],
      "metadata": {
        "id": "cYO9FJus42s0"
      }
    },
    {
      "cell_type": "markdown",
      "source": [
        "#**Practical Questions**"
      ],
      "metadata": {
        "id": "tpox5mHHEr9P"
      }
    },
    {
      "cell_type": "markdown",
      "source": [
        "**Q 1 How do you install and verify that TensorFlow 2.0 was installed successfully?**"
      ],
      "metadata": {
        "id": "a4Y4mwiFEyE5"
      }
    },
    {
      "cell_type": "code",
      "source": [
        "! pip install tensorflow\n",
        "import tensorflow as tf\n",
        "print(tf.__version__)"
      ],
      "metadata": {
        "colab": {
          "base_uri": "https://localhost:8080/"
        },
        "id": "Yu8wq29PEneT",
        "outputId": "d68ee268-c920-4f26-d17f-1d52f3333f13"
      },
      "execution_count": null,
      "outputs": [
        {
          "output_type": "stream",
          "name": "stdout",
          "text": [
            "Requirement already satisfied: tensorflow in /usr/local/lib/python3.11/dist-packages (2.19.0)\n",
            "Requirement already satisfied: absl-py>=1.0.0 in /usr/local/lib/python3.11/dist-packages (from tensorflow) (1.4.0)\n",
            "Requirement already satisfied: astunparse>=1.6.0 in /usr/local/lib/python3.11/dist-packages (from tensorflow) (1.6.3)\n",
            "Requirement already satisfied: flatbuffers>=24.3.25 in /usr/local/lib/python3.11/dist-packages (from tensorflow) (25.2.10)\n",
            "Requirement already satisfied: gast!=0.5.0,!=0.5.1,!=0.5.2,>=0.2.1 in /usr/local/lib/python3.11/dist-packages (from tensorflow) (0.6.0)\n",
            "Requirement already satisfied: google-pasta>=0.1.1 in /usr/local/lib/python3.11/dist-packages (from tensorflow) (0.2.0)\n",
            "Requirement already satisfied: libclang>=13.0.0 in /usr/local/lib/python3.11/dist-packages (from tensorflow) (18.1.1)\n",
            "Requirement already satisfied: opt-einsum>=2.3.2 in /usr/local/lib/python3.11/dist-packages (from tensorflow) (3.4.0)\n",
            "Requirement already satisfied: packaging in /usr/local/lib/python3.11/dist-packages (from tensorflow) (25.0)\n",
            "Requirement already satisfied: protobuf!=4.21.0,!=4.21.1,!=4.21.2,!=4.21.3,!=4.21.4,!=4.21.5,<6.0.0dev,>=3.20.3 in /usr/local/lib/python3.11/dist-packages (from tensorflow) (5.29.5)\n",
            "Requirement already satisfied: requests<3,>=2.21.0 in /usr/local/lib/python3.11/dist-packages (from tensorflow) (2.32.3)\n",
            "Requirement already satisfied: setuptools in /usr/local/lib/python3.11/dist-packages (from tensorflow) (75.2.0)\n",
            "Requirement already satisfied: six>=1.12.0 in /usr/local/lib/python3.11/dist-packages (from tensorflow) (1.17.0)\n",
            "Requirement already satisfied: termcolor>=1.1.0 in /usr/local/lib/python3.11/dist-packages (from tensorflow) (3.1.0)\n",
            "Requirement already satisfied: typing-extensions>=3.6.6 in /usr/local/lib/python3.11/dist-packages (from tensorflow) (4.14.1)\n",
            "Requirement already satisfied: wrapt>=1.11.0 in /usr/local/lib/python3.11/dist-packages (from tensorflow) (1.17.3)\n",
            "Requirement already satisfied: grpcio<2.0,>=1.24.3 in /usr/local/lib/python3.11/dist-packages (from tensorflow) (1.74.0)\n",
            "Requirement already satisfied: tensorboard~=2.19.0 in /usr/local/lib/python3.11/dist-packages (from tensorflow) (2.19.0)\n",
            "Requirement already satisfied: keras>=3.5.0 in /usr/local/lib/python3.11/dist-packages (from tensorflow) (3.10.0)\n",
            "Requirement already satisfied: numpy<2.2.0,>=1.26.0 in /usr/local/lib/python3.11/dist-packages (from tensorflow) (2.0.2)\n",
            "Requirement already satisfied: h5py>=3.11.0 in /usr/local/lib/python3.11/dist-packages (from tensorflow) (3.14.0)\n",
            "Requirement already satisfied: ml-dtypes<1.0.0,>=0.5.1 in /usr/local/lib/python3.11/dist-packages (from tensorflow) (0.5.3)\n",
            "Requirement already satisfied: tensorflow-io-gcs-filesystem>=0.23.1 in /usr/local/lib/python3.11/dist-packages (from tensorflow) (0.37.1)\n",
            "Requirement already satisfied: wheel<1.0,>=0.23.0 in /usr/local/lib/python3.11/dist-packages (from astunparse>=1.6.0->tensorflow) (0.45.1)\n",
            "Requirement already satisfied: rich in /usr/local/lib/python3.11/dist-packages (from keras>=3.5.0->tensorflow) (13.9.4)\n",
            "Requirement already satisfied: namex in /usr/local/lib/python3.11/dist-packages (from keras>=3.5.0->tensorflow) (0.1.0)\n",
            "Requirement already satisfied: optree in /usr/local/lib/python3.11/dist-packages (from keras>=3.5.0->tensorflow) (0.17.0)\n",
            "Requirement already satisfied: charset-normalizer<4,>=2 in /usr/local/lib/python3.11/dist-packages (from requests<3,>=2.21.0->tensorflow) (3.4.3)\n",
            "Requirement already satisfied: idna<4,>=2.5 in /usr/local/lib/python3.11/dist-packages (from requests<3,>=2.21.0->tensorflow) (3.10)\n",
            "Requirement already satisfied: urllib3<3,>=1.21.1 in /usr/local/lib/python3.11/dist-packages (from requests<3,>=2.21.0->tensorflow) (2.5.0)\n",
            "Requirement already satisfied: certifi>=2017.4.17 in /usr/local/lib/python3.11/dist-packages (from requests<3,>=2.21.0->tensorflow) (2025.8.3)\n",
            "Requirement already satisfied: markdown>=2.6.8 in /usr/local/lib/python3.11/dist-packages (from tensorboard~=2.19.0->tensorflow) (3.8.2)\n",
            "Requirement already satisfied: tensorboard-data-server<0.8.0,>=0.7.0 in /usr/local/lib/python3.11/dist-packages (from tensorboard~=2.19.0->tensorflow) (0.7.2)\n",
            "Requirement already satisfied: werkzeug>=1.0.1 in /usr/local/lib/python3.11/dist-packages (from tensorboard~=2.19.0->tensorflow) (3.1.3)\n",
            "Requirement already satisfied: MarkupSafe>=2.1.1 in /usr/local/lib/python3.11/dist-packages (from werkzeug>=1.0.1->tensorboard~=2.19.0->tensorflow) (3.0.2)\n",
            "Requirement already satisfied: markdown-it-py>=2.2.0 in /usr/local/lib/python3.11/dist-packages (from rich->keras>=3.5.0->tensorflow) (4.0.0)\n",
            "Requirement already satisfied: pygments<3.0.0,>=2.13.0 in /usr/local/lib/python3.11/dist-packages (from rich->keras>=3.5.0->tensorflow) (2.19.2)\n",
            "Requirement already satisfied: mdurl~=0.1 in /usr/local/lib/python3.11/dist-packages (from markdown-it-py>=2.2.0->rich->keras>=3.5.0->tensorflow) (0.1.2)\n",
            "2.19.0\n"
          ]
        }
      ]
    },
    {
      "cell_type": "markdown",
      "source": [
        "**Q 2 How can you define a simple function in TensorFlow 2.0 to perform addition?**"
      ],
      "metadata": {
        "id": "RlexZbwJI5lf"
      }
    },
    {
      "cell_type": "code",
      "source": [
        "@tf.function\n",
        "def add_tensors(x, y):\n",
        "  return x + y\n",
        "\n",
        "# Example usage\n",
        "tensor1 = tf.constant([1, 2, 3])\n",
        "tensor2 = tf.constant([4, 5, 6])\n",
        "\n",
        "result = add_tensors(tensor1, tensor2)\n",
        "print(result)"
      ],
      "metadata": {
        "colab": {
          "base_uri": "https://localhost:8080/"
        },
        "id": "d-tpZ3hJI3is",
        "outputId": "4ed7e61e-4b9e-4836-81b7-c393ee000000"
      },
      "execution_count": null,
      "outputs": [
        {
          "output_type": "stream",
          "name": "stdout",
          "text": [
            "tf.Tensor([5 7 9], shape=(3,), dtype=int32)\n"
          ]
        }
      ]
    },
    {
      "cell_type": "markdown",
      "source": [
        "**Q 3  How can you create a simple neural network in TensorFlow 2.0 with one hidden layer?**"
      ],
      "metadata": {
        "id": "8bi7Zs37NKa6"
      }
    },
    {
      "cell_type": "code",
      "source": [
        "from __future__ import absolute_import,division,print_function\n",
        "\n",
        "import tensorflow as tf\n",
        "from tensorflow import keras\n",
        "# Define the model\n",
        "model_tensorflow = keras.Sequential([\n",
        "    keras.layers.Dense(128, activation='relu', input_shape=(784,)), # Input layer and first hidden layer\n",
        "    keras.layers.Dense(10, activation='softmax') # Output layer\n",
        "])\n",
        "\n",
        "# Compile the model\n",
        "model_tensorflow.compile(optimizer='adam',\n",
        "              loss='categorical_crossentropy',\n",
        "              metrics=['accuracy'])\n",
        "\n",
        "# Display the model summary\n",
        "model_tensorflow.summary()\n",
        "\n"
      ],
      "metadata": {
        "colab": {
          "base_uri": "https://localhost:8080/",
          "height": 248
        },
        "id": "eb2E8_sxM4IM",
        "outputId": "01e85637-db0a-4771-967d-9e130fb71088"
      },
      "execution_count": 1,
      "outputs": [
        {
          "output_type": "stream",
          "name": "stderr",
          "text": [
            "/usr/local/lib/python3.11/dist-packages/keras/src/layers/core/dense.py:93: UserWarning: Do not pass an `input_shape`/`input_dim` argument to a layer. When using Sequential models, prefer using an `Input(shape)` object as the first layer in the model instead.\n",
            "  super().__init__(activity_regularizer=activity_regularizer, **kwargs)\n"
          ]
        },
        {
          "output_type": "display_data",
          "data": {
            "text/plain": [
              "\u001b[1mModel: \"sequential\"\u001b[0m\n"
            ],
            "text/html": [
              "<pre style=\"white-space:pre;overflow-x:auto;line-height:normal;font-family:Menlo,'DejaVu Sans Mono',consolas,'Courier New',monospace\"><span style=\"font-weight: bold\">Model: \"sequential\"</span>\n",
              "</pre>\n"
            ]
          },
          "metadata": {}
        },
        {
          "output_type": "display_data",
          "data": {
            "text/plain": [
              "┏━━━━━━━━━━━━━━━━━━━━━━━━━━━━━━━━━┳━━━━━━━━━━━━━━━━━━━━━━━━┳━━━━━━━━━━━━━━━┓\n",
              "┃\u001b[1m \u001b[0m\u001b[1mLayer (type)                   \u001b[0m\u001b[1m \u001b[0m┃\u001b[1m \u001b[0m\u001b[1mOutput Shape          \u001b[0m\u001b[1m \u001b[0m┃\u001b[1m \u001b[0m\u001b[1m      Param #\u001b[0m\u001b[1m \u001b[0m┃\n",
              "┡━━━━━━━━━━━━━━━━━━━━━━━━━━━━━━━━━╇━━━━━━━━━━━━━━━━━━━━━━━━╇━━━━━━━━━━━━━━━┩\n",
              "│ dense (\u001b[38;5;33mDense\u001b[0m)                   │ (\u001b[38;5;45mNone\u001b[0m, \u001b[38;5;34m128\u001b[0m)            │       \u001b[38;5;34m100,480\u001b[0m │\n",
              "├─────────────────────────────────┼────────────────────────┼───────────────┤\n",
              "│ dense_1 (\u001b[38;5;33mDense\u001b[0m)                 │ (\u001b[38;5;45mNone\u001b[0m, \u001b[38;5;34m10\u001b[0m)             │         \u001b[38;5;34m1,290\u001b[0m │\n",
              "└─────────────────────────────────┴────────────────────────┴───────────────┘\n"
            ],
            "text/html": [
              "<pre style=\"white-space:pre;overflow-x:auto;line-height:normal;font-family:Menlo,'DejaVu Sans Mono',consolas,'Courier New',monospace\">┏━━━━━━━━━━━━━━━━━━━━━━━━━━━━━━━━━┳━━━━━━━━━━━━━━━━━━━━━━━━┳━━━━━━━━━━━━━━━┓\n",
              "┃<span style=\"font-weight: bold\"> Layer (type)                    </span>┃<span style=\"font-weight: bold\"> Output Shape           </span>┃<span style=\"font-weight: bold\">       Param # </span>┃\n",
              "┡━━━━━━━━━━━━━━━━━━━━━━━━━━━━━━━━━╇━━━━━━━━━━━━━━━━━━━━━━━━╇━━━━━━━━━━━━━━━┩\n",
              "│ dense (<span style=\"color: #0087ff; text-decoration-color: #0087ff\">Dense</span>)                   │ (<span style=\"color: #00d7ff; text-decoration-color: #00d7ff\">None</span>, <span style=\"color: #00af00; text-decoration-color: #00af00\">128</span>)            │       <span style=\"color: #00af00; text-decoration-color: #00af00\">100,480</span> │\n",
              "├─────────────────────────────────┼────────────────────────┼───────────────┤\n",
              "│ dense_1 (<span style=\"color: #0087ff; text-decoration-color: #0087ff\">Dense</span>)                 │ (<span style=\"color: #00d7ff; text-decoration-color: #00d7ff\">None</span>, <span style=\"color: #00af00; text-decoration-color: #00af00\">10</span>)             │         <span style=\"color: #00af00; text-decoration-color: #00af00\">1,290</span> │\n",
              "└─────────────────────────────────┴────────────────────────┴───────────────┘\n",
              "</pre>\n"
            ]
          },
          "metadata": {}
        },
        {
          "output_type": "display_data",
          "data": {
            "text/plain": [
              "\u001b[1m Total params: \u001b[0m\u001b[38;5;34m101,770\u001b[0m (397.54 KB)\n"
            ],
            "text/html": [
              "<pre style=\"white-space:pre;overflow-x:auto;line-height:normal;font-family:Menlo,'DejaVu Sans Mono',consolas,'Courier New',monospace\"><span style=\"font-weight: bold\"> Total params: </span><span style=\"color: #00af00; text-decoration-color: #00af00\">101,770</span> (397.54 KB)\n",
              "</pre>\n"
            ]
          },
          "metadata": {}
        },
        {
          "output_type": "display_data",
          "data": {
            "text/plain": [
              "\u001b[1m Trainable params: \u001b[0m\u001b[38;5;34m101,770\u001b[0m (397.54 KB)\n"
            ],
            "text/html": [
              "<pre style=\"white-space:pre;overflow-x:auto;line-height:normal;font-family:Menlo,'DejaVu Sans Mono',consolas,'Courier New',monospace\"><span style=\"font-weight: bold\"> Trainable params: </span><span style=\"color: #00af00; text-decoration-color: #00af00\">101,770</span> (397.54 KB)\n",
              "</pre>\n"
            ]
          },
          "metadata": {}
        },
        {
          "output_type": "display_data",
          "data": {
            "text/plain": [
              "\u001b[1m Non-trainable params: \u001b[0m\u001b[38;5;34m0\u001b[0m (0.00 B)\n"
            ],
            "text/html": [
              "<pre style=\"white-space:pre;overflow-x:auto;line-height:normal;font-family:Menlo,'DejaVu Sans Mono',consolas,'Courier New',monospace\"><span style=\"font-weight: bold\"> Non-trainable params: </span><span style=\"color: #00af00; text-decoration-color: #00af00\">0</span> (0.00 B)\n",
              "</pre>\n"
            ]
          },
          "metadata": {}
        }
      ]
    },
    {
      "cell_type": "markdown",
      "source": [
        "**Q 4 How can you visualize the training progress using TensorFlow and Matplotlib?**"
      ],
      "metadata": {
        "id": "8K2MJ8npN8CM"
      }
    },
    {
      "cell_type": "code",
      "source": [
        "import numpy as np\n",
        "import matplotlib.pyplot as plt\n",
        "import tensorflow as tf\n",
        "from tensorflow import keras\n",
        "\n",
        "# Generate some dummy data\n",
        "num_samples = 1000\n",
        "input_dimension = 784\n",
        "output_dimension = 10\n",
        "\n",
        "x_train = np.random.rand(num_samples, input_dimension)\n",
        "y_train = tf.keras.utils.to_categorical(np.random.randint(output_dimension, size=num_samples), num_classes=output_dimension)\n",
        "\n",
        "x_val = np.random.rand(num_samples // 10, input_dimension)\n",
        "y_val = tf.keras.utils.to_categorical(np.random.randint(output_dimension, size=num_samples // 10), num_classes=output_dimension)\n",
        "\n",
        "# Define a simple TensorFlow Keras model\n",
        "model = keras.Sequential([\n",
        "    keras.layers.Dense(128, activation='relu', input_shape=(input_dimension,)),\n",
        "    keras.layers.Dense(output_dimension, activation='softmax')\n",
        "])\n",
        "\n",
        "# Compile the model\n",
        "model.compile(optimizer='adam',\n",
        "              loss='categorical_crossentropy',\n",
        "              metrics=['accuracy'])\n",
        "\n",
        "# Train the model and store the history\n",
        "epochs = 20\n",
        "history = model.fit(x_train, y_train, epochs=epochs, validation_data=(x_val, y_val), verbose=0)\n",
        "\n",
        "# Plot training & validation accuracy values\n",
        "plt.figure(figsize=(12, 4))\n",
        "plt.subplot(1, 2, 1)\n",
        "plt.plot(history.history['accuracy'])\n",
        "plt.plot(history.history['val_accuracy'])\n",
        "plt.title('Model Accuracy')\n",
        "plt.ylabel('Accuracy')\n",
        "plt.xlabel('Epoch')\n",
        "plt.legend(['Train', 'Validation'], loc='upper left')\n",
        "\n",
        "# Plot training & validation loss values\n",
        "plt.subplot(1, 2, 2)\n",
        "plt.plot(history.history['loss'])\n",
        "plt.plot(history.history['val_loss'])\n",
        "plt.title('Model Loss')\n",
        "plt.ylabel('Loss')\n",
        "plt.xlabel('Epoch')\n",
        "plt.legend(['Train', 'Validation'], loc='upper left')\n",
        "\n",
        "plt.show()"
      ],
      "metadata": {
        "colab": {
          "base_uri": "https://localhost:8080/",
          "height": 465
        },
        "id": "4jr4rtYIUt_i",
        "outputId": "c8c56b4c-5f72-4903-f3c2-415d81f10d8e"
      },
      "execution_count": 5,
      "outputs": [
        {
          "output_type": "stream",
          "name": "stderr",
          "text": [
            "/usr/local/lib/python3.11/dist-packages/keras/src/layers/core/dense.py:93: UserWarning: Do not pass an `input_shape`/`input_dim` argument to a layer. When using Sequential models, prefer using an `Input(shape)` object as the first layer in the model instead.\n",
            "  super().__init__(activity_regularizer=activity_regularizer, **kwargs)\n"
          ]
        },
        {
          "output_type": "display_data",
          "data": {
            "text/plain": [
              "<Figure size 1200x400 with 2 Axes>"
            ],
            "image/png": "[encoded data removed]"
          },
          "metadata": {}
        }
      ]
    },
    {
      "cell_type": "markdown",
      "source": [
        "**Q 5 How do you install PyTorch and verify the PyTorch installation?**\n"
      ],
      "metadata": {
        "id": "iBfvcAP_OjbI"
      }
    },
    {
      "cell_type": "code",
      "source": [
        "! pip install torch\n",
        "import torch\n",
        "print(torch.__version__)\n"
      ],
      "metadata": {
        "colab": {
          "base_uri": "https://localhost:8080/"
        },
        "id": "Rr9LL_3_Oc93",
        "outputId": "de283864-70ec-42b6-83a1-5c0131a25a08"
      },
      "execution_count": null,
      "outputs": [
        {
          "output_type": "stream",
          "name": "stdout",
          "text": [
            "Requirement already satisfied: torch in /usr/local/lib/python3.11/dist-packages (2.6.0+cu124)\n",
            "Requirement already satisfied: filelock in /usr/local/lib/python3.11/dist-packages (from torch) (3.18.0)\n",
            "Requirement already satisfied: typing-extensions>=4.10.0 in /usr/local/lib/python3.11/dist-packages (from torch) (4.14.1)\n",
            "Requirement already satisfied: networkx in /usr/local/lib/python3.11/dist-packages (from torch) (3.5)\n",
            "Requirement already satisfied: jinja2 in /usr/local/lib/python3.11/dist-packages (from torch) (3.1.6)\n",
            "Requirement already satisfied: fsspec in /usr/local/lib/python3.11/dist-packages (from torch) (2025.3.0)\n",
            "Collecting nvidia-cuda-nvrtc-cu12==12.4.127 (from torch)\n",
            "  Downloading nvidia_cuda_nvrtc_cu12-12.4.127-py3-none-manylinux2014_x86_64.whl.metadata (1.5 kB)\n",
            "Collecting nvidia-cuda-runtime-cu12==12.4.127 (from torch)\n",
            "  Downloading nvidia_cuda_runtime_cu12-12.4.127-py3-none-manylinux2014_x86_64.whl.metadata (1.5 kB)\n",
            "Collecting nvidia-cuda-cupti-cu12==12.4.127 (from torch)\n",
            "  Downloading nvidia_cuda_cupti_cu12-12.4.127-py3-none-manylinux2014_x86_64.whl.metadata (1.6 kB)\n",
            "Collecting nvidia-cudnn-cu12==9.1.0.70 (from torch)\n",
            "  Downloading nvidia_cudnn_cu12-9.1.0.70-py3-none-manylinux2014_x86_64.whl.metadata (1.6 kB)\n",
            "Collecting nvidia-cublas-cu12==12.4.5.8 (from torch)\n",
            "  Downloading nvidia_cublas_cu12-12.4.5.8-py3-none-manylinux2014_x86_64.whl.metadata (1.5 kB)\n",
            "Collecting nvidia-cufft-cu12==11.2.1.3 (from torch)\n",
            "  Downloading nvidia_cufft_cu12-11.2.1.3-py3-none-manylinux2014_x86_64.whl.metadata (1.5 kB)\n",
            "Collecting nvidia-curand-cu12==10.3.5.147 (from torch)\n",
            "  Downloading nvidia_curand_cu12-10.3.5.147-py3-none-manylinux2014_x86_64.whl.metadata (1.5 kB)\n",
            "Collecting nvidia-cusolver-cu12==11.6.1.9 (from torch)\n",
            "  Downloading nvidia_cusolver_cu12-11.6.1.9-py3-none-manylinux2014_x86_64.whl.metadata (1.6 kB)\n",
            "Collecting nvidia-cusparse-cu12==12.3.1.170 (from torch)\n",
            "  Downloading nvidia_cusparse_cu12-12.3.1.170-py3-none-manylinux2014_x86_64.whl.metadata (1.6 kB)\n",
            "Requirement already satisfied: nvidia-cusparselt-cu12==0.6.2 in /usr/local/lib/python3.11/dist-packages (from torch) (0.6.2)\n",
            "Collecting nvidia-nccl-cu12==2.21.5 (from torch)\n",
            "  Downloading nvidia_nccl_cu12-2.21.5-py3-none-manylinux2014_x86_64.whl.metadata (1.8 kB)\n",
            "Requirement already satisfied: nvidia-nvtx-cu12==12.4.127 in /usr/local/lib/python3.11/dist-packages (from torch) (12.4.127)\n",
            "Collecting nvidia-nvjitlink-cu12==12.4.127 (from torch)\n",
            "  Downloading nvidia_nvjitlink_cu12-12.4.127-py3-none-manylinux2014_x86_64.whl.metadata (1.5 kB)\n",
            "Requirement already satisfied: triton==3.2.0 in /usr/local/lib/python3.11/dist-packages (from torch) (3.2.0)\n",
            "Requirement already satisfied: sympy==1.13.1 in /usr/local/lib/python3.11/dist-packages (from torch) (1.13.1)\n",
            "Requirement already satisfied: mpmath<1.4,>=1.1.0 in /usr/local/lib/python3.11/dist-packages (from sympy==1.13.1->torch) (1.3.0)\n",
            "Requirement already satisfied: MarkupSafe>=2.0 in /usr/local/lib/python3.11/dist-packages (from jinja2->torch) (3.0.2)\n",
            "Downloading nvidia_cublas_cu12-12.4.5.8-py3-none-manylinux2014_x86_64.whl (363.4 MB)\n",
            "\u001b[2K   \u001b[90m━━━━━━━━━━━━━━━━━━━━━━━━━━━━━━━━━━━━━━━━\u001b[0m \u001b[32m363.4/363.4 MB\u001b[0m \u001b[31m4.6 MB/s\u001b[0m eta \u001b[36m0:00:00\u001b[0m\n",
            "\u001b[?25hDownloading nvidia_cuda_cupti_cu12-12.4.127-py3-none-manylinux2014_x86_64.whl (13.8 MB)\n",
            "\u001b[2K   \u001b[90m━━━━━━━━━━━━━━━━━━━━━━━━━━━━━━━━━━━━━━━━\u001b[0m \u001b[32m13.8/13.8 MB\u001b[0m \u001b[31m106.9 MB/s\u001b[0m eta \u001b[36m0:00:00\u001b[0m\n",
            "\u001b[?25hDownloading nvidia_cuda_nvrtc_cu12-12.4.127-py3-none-manylinux2014_x86_64.whl (24.6 MB)\n",
            "\u001b[2K   \u001b[90m━━━━━━━━━━━━━━━━━━━━━━━━━━━━━━━━━━━━━━━━\u001b[0m \u001b[32m24.6/24.6 MB\u001b[0m \u001b[31m97.4 MB/s\u001b[0m eta \u001b[36m0:00:00\u001b[0m\n",
            "\u001b[?25hDownloading nvidia_cuda_runtime_cu12-12.4.127-py3-none-manylinux2014_x86_64.whl (883 kB)\n",
            "\u001b[2K   \u001b[90m━━━━━━━━━━━━━━━━━━━━━━━━━━━━━━━━━━━━━━━━\u001b[0m \u001b[32m883.7/883.7 kB\u001b[0m \u001b[31m63.2 MB/s\u001b[0m eta \u001b[36m0:00:00\u001b[0m\n",
            "\u001b[?25hDownloading nvidia_cudnn_cu12-9.1.0.70-py3-none-manylinux2014_x86_64.whl (664.8 MB)\n",
            "\u001b[2K   \u001b[90m━━━━━━━━━━━━━━━━━━━━━━━━━━━━━━━━━━━━━━━━\u001b[0m \u001b[32m664.8/664.8 MB\u001b[0m \u001b[31m1.3 MB/s\u001b[0m eta \u001b[36m0:00:00\u001b[0m\n",
            "\u001b[?25hDownloading nvidia_cufft_cu12-11.2.1.3-py3-none-manylinux2014_x86_64.whl (211.5 MB)\n",
            "\u001b[2K   \u001b[90m━━━━━━━━━━━━━━━━━━━━━━━━━━━━━━━━━━━━━━━━\u001b[0m \u001b[32m211.5/211.5 MB\u001b[0m \u001b[31m5.3 MB/s\u001b[0m eta \u001b[36m0:00:00\u001b[0m\n",
            "\u001b[?25hDownloading nvidia_curand_cu12-10.3.5.147-py3-none-manylinux2014_x86_64.whl (56.3 MB)\n",
            "\u001b[2K   \u001b[90m━━━━━━━━━━━━━━━━━━━━━━━━━━━━━━━━━━━━━━━━\u001b[0m \u001b[32m56.3/56.3 MB\u001b[0m \u001b[31m18.5 MB/s\u001b[0m eta \u001b[36m0:00:00\u001b[0m\n",
            "\u001b[?25hDownloading nvidia_cusolver_cu12-11.6.1.9-py3-none-manylinux2014_x86_64.whl (127.9 MB)\n",
            "\u001b[2K   \u001b[90m━━━━━━━━━━━━━━━━━━━━━━━━━━━━━━━━━━━━━━━━\u001b[0m \u001b[32m127.9/127.9 MB\u001b[0m \u001b[31m7.4 MB/s\u001b[0m eta \u001b[36m0:00:00\u001b[0m\n",
            "\u001b[?25hDownloading nvidia_cusparse_cu12-12.3.1.170-py3-none-manylinux2014_x86_64.whl (207.5 MB)\n",
            "\u001b[2K   \u001b[90m━━━━━━━━━━━━━━━━━━━━━━━━━━━━━━━━━━━━━━━━\u001b[0m \u001b[32m207.5/207.5 MB\u001b[0m \u001b[31m5.9 MB/s\u001b[0m eta \u001b[36m0:00:00\u001b[0m\n",
            "\u001b[?25hDownloading nvidia_nccl_cu12-2.21.5-py3-none-manylinux2014_x86_64.whl (188.7 MB)\n",
            "\u001b[2K   \u001b[90m━━━━━━━━━━━━━━━━━━━━━━━━━━━━━━━━━━━━━━━━\u001b[0m \u001b[32m188.7/188.7 MB\u001b[0m \u001b[31m5.9 MB/s\u001b[0m eta \u001b[36m0:00:00\u001b[0m\n",
            "\u001b[?25hDownloading nvidia_nvjitlink_cu12-12.4.127-py3-none-manylinux2014_x86_64.whl (21.1 MB)\n",
            "\u001b[2K   \u001b[90m━━━━━━━━━━━━━━━━━━━━━━━━━━━━━━━━━━━━━━━━\u001b[0m \u001b[32m21.1/21.1 MB\u001b[0m \u001b[31m104.9 MB/s\u001b[0m eta \u001b[36m0:00:00\u001b[0m\n",
            "\u001b[?25hInstalling collected packages: nvidia-nvjitlink-cu12, nvidia-nccl-cu12, nvidia-curand-cu12, nvidia-cufft-cu12, nvidia-cuda-runtime-cu12, nvidia-cuda-nvrtc-cu12, nvidia-cuda-cupti-cu12, nvidia-cublas-cu12, nvidia-cusparse-cu12, nvidia-cudnn-cu12, nvidia-cusolver-cu12\n",
            "  Attempting uninstall: nvidia-nvjitlink-cu12\n",
            "    Found existing installation: nvidia-nvjitlink-cu12 12.5.82\n",
            "    Uninstalling nvidia-nvjitlink-cu12-12.5.82:\n",
            "      Successfully uninstalled nvidia-nvjitlink-cu12-12.5.82\n",
            "  Attempting uninstall: nvidia-nccl-cu12\n",
            "    Found existing installation: nvidia-nccl-cu12 2.23.4\n",
            "    Uninstalling nvidia-nccl-cu12-2.23.4:\n",
            "      Successfully uninstalled nvidia-nccl-cu12-2.23.4\n",
            "  Attempting uninstall: nvidia-curand-cu12\n",
            "    Found existing installation: nvidia-curand-cu12 10.3.6.82\n",
            "    Uninstalling nvidia-curand-cu12-10.3.6.82:\n",
            "      Successfully uninstalled nvidia-curand-cu12-10.3.6.82\n",
            "  Attempting uninstall: nvidia-cufft-cu12\n",
            "    Found existing installation: nvidia-cufft-cu12 11.2.3.61\n",
            "    Uninstalling nvidia-cufft-cu12-11.2.3.61:\n",
            "      Successfully uninstalled nvidia-cufft-cu12-11.2.3.61\n",
            "  Attempting uninstall: nvidia-cuda-runtime-cu12\n",
            "    Found existing installation: nvidia-cuda-runtime-cu12 12.5.82\n",
            "    Uninstalling nvidia-cuda-runtime-cu12-12.5.82:\n",
            "      Successfully uninstalled nvidia-cuda-runtime-cu12-12.5.82\n",
            "  Attempting uninstall: nvidia-cuda-nvrtc-cu12\n",
            "    Found existing installation: nvidia-cuda-nvrtc-cu12 12.5.82\n",
            "    Uninstalling nvidia-cuda-nvrtc-cu12-12.5.82:\n",
            "      Successfully uninstalled nvidia-cuda-nvrtc-cu12-12.5.82\n",
            "  Attempting uninstall: nvidia-cuda-cupti-cu12\n",
            "    Found existing installation: nvidia-cuda-cupti-cu12 12.5.82\n",
            "    Uninstalling nvidia-cuda-cupti-cu12-12.5.82:\n",
            "      Successfully uninstalled nvidia-cuda-cupti-cu12-12.5.82\n",
            "  Attempting uninstall: nvidia-cublas-cu12\n",
            "    Found existing installation: nvidia-cublas-cu12 12.5.3.2\n",
            "    Uninstalling nvidia-cublas-cu12-12.5.3.2:\n",
            "      Successfully uninstalled nvidia-cublas-cu12-12.5.3.2\n",
            "  Attempting uninstall: nvidia-cusparse-cu12\n",
            "    Found existing installation: nvidia-cusparse-cu12 12.5.1.3\n",
            "    Uninstalling nvidia-cusparse-cu12-12.5.1.3:\n",
            "      Successfully uninstalled nvidia-cusparse-cu12-12.5.1.3\n",
            "  Attempting uninstall: nvidia-cudnn-cu12\n",
            "    Found existing installation: nvidia-cudnn-cu12 9.3.0.75\n",
            "    Uninstalling nvidia-cudnn-cu12-9.3.0.75:\n",
            "      Successfully uninstalled nvidia-cudnn-cu12-9.3.0.75\n",
            "  Attempting uninstall: nvidia-cusolver-cu12\n",
            "    Found existing installation: nvidia-cusolver-cu12 11.6.3.83\n",
            "    Uninstalling nvidia-cusolver-cu12-11.6.3.83:\n",
            "      Successfully uninstalled nvidia-cusolver-cu12-11.6.3.83\n",
            "Successfully installed nvidia-cublas-cu12-12.4.5.8 nvidia-cuda-cupti-cu12-12.4.127 nvidia-cuda-nvrtc-cu12-12.4.127 nvidia-cuda-runtime-cu12-12.4.127 nvidia-cudnn-cu12-9.1.0.70 nvidia-cufft-cu12-11.2.1.3 nvidia-curand-cu12-10.3.5.147 nvidia-cusolver-cu12-11.6.1.9 nvidia-cusparse-cu12-12.3.1.170 nvidia-nccl-cu12-2.21.5 nvidia-nvjitlink-cu12-12.4.127\n",
            "2.6.0+cu124\n"
          ]
        }
      ]
    },
    {
      "cell_type": "markdown",
      "source": [
        "**Q 6 How do you create a simple neural network in PyTorch?**"
      ],
      "metadata": {
        "id": "Bm_R9icBOwjd"
      }
    },
    {
      "cell_type": "code",
      "source": [
        "import torch\n",
        "from torch import nn\n",
        "from torch.utils.data import DataLoader\n",
        "from torchvision import datasets\n",
        "from torchvision.transforms import ToTensor, Lambda, Compose\n",
        "import matplotlib.pyplot as plt\n",
        "\n",
        "device = \"cuda\" if torch.cuda.is_available() else \"cpu\"\n",
        "print(f\"Using {device} device\")\n",
        "\n",
        "class NeuralNetwork(nn.Module):\n",
        "\n",
        "  def __init__(self):\n",
        "    super(NeuralNetwork,self).__init__()\n",
        "\n",
        "    self.flatten = nn.Flatten()\n",
        "    # Hidden layer with Relu activation function\n",
        "    self.linear_relu_stack = nn.Sequential(\n",
        "        nn.Linear(28*28,512),\n",
        "        nn.ReLU(),\n",
        "    )\n",
        "  def forward(self,x):\n",
        "    x = self.flatten(x)\n",
        "    logits = self.linear_relu_stack(x)\n",
        "    return logits\n",
        "\n",
        "model= NeuralNetwork().to(device)\n",
        "print(model)"
      ],
      "metadata": {
        "colab": {
          "base_uri": "https://localhost:8080/"
        },
        "id": "dh3QrQzvOpyX",
        "outputId": "9466e3b0-5b13-467a-9df0-9679bc615339"
      },
      "execution_count": null,
      "outputs": [
        {
          "output_type": "stream",
          "name": "stdout",
          "text": [
            "Using cuda device\n",
            "NeuralNetwork(\n",
            "  (flatten): Flatten(start_dim=1, end_dim=-1)\n",
            "  (linear_relu_stack): Sequential(\n",
            "    (0): Linear(in_features=784, out_features=512, bias=True)\n",
            "    (1): ReLU()\n",
            "  )\n",
            ")\n"
          ]
        }
      ]
    },
    {
      "cell_type": "markdown",
      "source": [
        "**Q 7 How do you define a loss function and optimizer in PyTorch?**"
      ],
      "metadata": {
        "id": "pylCnje1Qe-2"
      }
    },
    {
      "cell_type": "code",
      "source": [
        "loss_fn = nn.CrossEntropyLoss()\n",
        "\n",
        "# optimizer ---> SGO ----> stochastic gradient descent\n",
        "\n",
        "optimizer = torch.optim.SGD(model.parameters(),lr=1e-3)"
      ],
      "metadata": {
        "id": "5EmSyr06Qhgm"
      },
      "execution_count": null,
      "outputs": []
    },
    {
      "cell_type": "markdown",
      "source": [
        "**Q 8 How do you implement a custom loss function in PyTorch?**"
      ],
      "metadata": {
        "id": "Fi33GOSoQ3Yw"
      }
    },
    {
      "cell_type": "code",
      "metadata": {
        "colab": {
          "base_uri": "https://localhost:8080/"
        },
        "id": "5bd13c4b",
        "outputId": "b8b866d2-553e-4dfb-e67e-ecbca25f118b"
      },
      "source": [
        "import torch\n",
        "import torch.nn as nn\n",
        "\n",
        "class CustomLoss(nn.Module):\n",
        "    def __init__(self):\n",
        "        super(CustomLoss, self).__init__()\n",
        "\n",
        "    def forward(self, outputs, targets):\n",
        "        # Example: Mean Squared Error as a custom loss\n",
        "        loss = torch.mean((outputs - targets) ** 2)\n",
        "        return loss\n",
        "\n",
        "# Example usage (assuming you have model outputs and target values)\n",
        "outputs = torch.randn(10, 1) # Dummy model outputs\n",
        "targets = torch.randn(10, 1) # Dummy target values\n",
        "\n",
        "custom_loss_fn = CustomLoss()\n",
        "loss = custom_loss_fn(outputs, targets)\n",
        "print(loss)"
      ],
      "execution_count": null,
      "outputs": [
        {
          "output_type": "stream",
          "name": "stdout",
          "text": [
            "tensor(2.5139)\n"
          ]
        }
      ]
    },
    {
      "cell_type": "markdown",
      "source": [
        "**Q 9  How do you save and load a TensorFlow model?**"
      ],
      "metadata": {
        "id": "-XmhlDYORSLD"
      }
    },
    {
      "cell_type": "code",
      "metadata": {
        "colab": {
          "base_uri": "https://localhost:8080/"
        },
        "id": "16715572",
        "outputId": "cb374883-ed93-4304-923e-496e4299c2ec"
      },
      "source": [
        "# Assume you have a trained model named 'model'\n",
        "\n",
        "# Save the entire model to a single file\n",
        "model_tensorflow.save('my_model.h5')\n",
        "\n",
        "# Save only the model's weights\n",
        "model_tensorflow.save_weights('my_model_weights.weights.h5')"
      ],
      "execution_count": 3,
      "outputs": [
        {
          "output_type": "stream",
          "name": "stderr",
          "text": [
            "WARNING:absl:You are saving your model as an HDF5 file via `model.save()` or `keras.saving.save_model(model)`. This file format is considered legacy. We recommend using instead the native Keras format, e.g. `model.save('my_model.keras')` or `keras.saving.save_model(model, 'my_model.keras')`. \n"
          ]
        }
      ]
    },
    {
      "cell_type": "code",
      "metadata": {
        "id": "50be4da5",
        "colab": {
          "base_uri": "https://localhost:8080/",
          "height": 244
        },
        "outputId": "85dac0e9-3496-46b8-f30e-15293d7f832d"
      },
      "source": [
        "# Load the saved model\n",
        "loaded_model = tf.keras.models.load_model('my_model.h5')\n",
        "\n",
        "# Load only the saved weights into a model with the same architecture\n",
        "# You would need to define or load the model architecture first\n",
        "# model_with_weights = create_my_model() # Assuming you have a function to create the model\n",
        "# model_with_weights.load_weights('my_model_weights')\n",
        "\n",
        "print(\"Model saved and loaded successfully!\")\n",
        "loaded_model.summary() # Display the summary of the loaded model"
      ],
      "execution_count": 4,
      "outputs": [
        {
          "output_type": "stream",
          "name": "stderr",
          "text": [
            "WARNING:absl:Compiled the loaded model, but the compiled metrics have yet to be built. `model.compile_metrics` will be empty until you train or evaluate the model.\n"
          ]
        },
        {
          "output_type": "stream",
          "name": "stdout",
          "text": [
            "Model saved and loaded successfully!\n"
          ]
        },
        {
          "output_type": "display_data",
          "data": {
            "text/plain": [
              "\u001b[1mModel: \"sequential\"\u001b[0m\n"
            ],
            "text/html": [
              "<pre style=\"white-space:pre;overflow-x:auto;line-height:normal;font-family:Menlo,'DejaVu Sans Mono',consolas,'Courier New',monospace\"><span style=\"font-weight: bold\">Model: \"sequential\"</span>\n",
              "</pre>\n"
            ]
          },
          "metadata": {}
        },
        {
          "output_type": "display_data",
          "data": {
            "text/plain": [
              "┏━━━━━━━━━━━━━━━━━━━━━━━━━━━━━━━━━┳━━━━━━━━━━━━━━━━━━━━━━━━┳━━━━━━━━━━━━━━━┓\n",
              "┃\u001b[1m \u001b[0m\u001b[1mLayer (type)                   \u001b[0m\u001b[1m \u001b[0m┃\u001b[1m \u001b[0m\u001b[1mOutput Shape          \u001b[0m\u001b[1m \u001b[0m┃\u001b[1m \u001b[0m\u001b[1m      Param #\u001b[0m\u001b[1m \u001b[0m┃\n",
              "┡━━━━━━━━━━━━━━━━━━━━━━━━━━━━━━━━━╇━━━━━━━━━━━━━━━━━━━━━━━━╇━━━━━━━━━━━━━━━┩\n",
              "│ dense (\u001b[38;5;33mDense\u001b[0m)                   │ (\u001b[38;5;45mNone\u001b[0m, \u001b[38;5;34m128\u001b[0m)            │       \u001b[38;5;34m100,480\u001b[0m │\n",
              "├─────────────────────────────────┼────────────────────────┼───────────────┤\n",
              "│ dense_1 (\u001b[38;5;33mDense\u001b[0m)                 │ (\u001b[38;5;45mNone\u001b[0m, \u001b[38;5;34m10\u001b[0m)             │         \u001b[38;5;34m1,290\u001b[0m │\n",
              "└─────────────────────────────────┴────────────────────────┴───────────────┘\n"
            ],
            "text/html": [
              "<pre style=\"white-space:pre;overflow-x:auto;line-height:normal;font-family:Menlo,'DejaVu Sans Mono',consolas,'Courier New',monospace\">┏━━━━━━━━━━━━━━━━━━━━━━━━━━━━━━━━━┳━━━━━━━━━━━━━━━━━━━━━━━━┳━━━━━━━━━━━━━━━┓\n",
              "┃<span style=\"font-weight: bold\"> Layer (type)                    </span>┃<span style=\"font-weight: bold\"> Output Shape           </span>┃<span style=\"font-weight: bold\">       Param # </span>┃\n",
              "┡━━━━━━━━━━━━━━━━━━━━━━━━━━━━━━━━━╇━━━━━━━━━━━━━━━━━━━━━━━━╇━━━━━━━━━━━━━━━┩\n",
              "│ dense (<span style=\"color: #0087ff; text-decoration-color: #0087ff\">Dense</span>)                   │ (<span style=\"color: #00d7ff; text-decoration-color: #00d7ff\">None</span>, <span style=\"color: #00af00; text-decoration-color: #00af00\">128</span>)            │       <span style=\"color: #00af00; text-decoration-color: #00af00\">100,480</span> │\n",
              "├─────────────────────────────────┼────────────────────────┼───────────────┤\n",
              "│ dense_1 (<span style=\"color: #0087ff; text-decoration-color: #0087ff\">Dense</span>)                 │ (<span style=\"color: #00d7ff; text-decoration-color: #00d7ff\">None</span>, <span style=\"color: #00af00; text-decoration-color: #00af00\">10</span>)             │         <span style=\"color: #00af00; text-decoration-color: #00af00\">1,290</span> │\n",
              "└─────────────────────────────────┴────────────────────────┴───────────────┘\n",
              "</pre>\n"
            ]
          },
          "metadata": {}
        },
        {
          "output_type": "display_data",
          "data": {
            "text/plain": [
              "\u001b[1m Total params: \u001b[0m\u001b[38;5;34m101,772\u001b[0m (397.55 KB)\n"
            ],
            "text/html": [
              "<pre style=\"white-space:pre;overflow-x:auto;line-height:normal;font-family:Menlo,'DejaVu Sans Mono',consolas,'Courier New',monospace\"><span style=\"font-weight: bold\"> Total params: </span><span style=\"color: #00af00; text-decoration-color: #00af00\">101,772</span> (397.55 KB)\n",
              "</pre>\n"
            ]
          },
          "metadata": {}
        },
        {
          "output_type": "display_data",
          "data": {
            "text/plain": [
              "\u001b[1m Trainable params: \u001b[0m\u001b[38;5;34m101,770\u001b[0m (397.54 KB)\n"
            ],
            "text/html": [
              "<pre style=\"white-space:pre;overflow-x:auto;line-height:normal;font-family:Menlo,'DejaVu Sans Mono',consolas,'Courier New',monospace\"><span style=\"font-weight: bold\"> Trainable params: </span><span style=\"color: #00af00; text-decoration-color: #00af00\">101,770</span> (397.54 KB)\n",
              "</pre>\n"
            ]
          },
          "metadata": {}
        },
        {
          "output_type": "display_data",
          "data": {
            "text/plain": [
              "\u001b[1m Non-trainable params: \u001b[0m\u001b[38;5;34m0\u001b[0m (0.00 B)\n"
            ],
            "text/html": [
              "<pre style=\"white-space:pre;overflow-x:auto;line-height:normal;font-family:Menlo,'DejaVu Sans Mono',consolas,'Courier New',monospace\"><span style=\"font-weight: bold\"> Non-trainable params: </span><span style=\"color: #00af00; text-decoration-color: #00af00\">0</span> (0.00 B)\n",
              "</pre>\n"
            ]
          },
          "metadata": {}
        },
        {
          "output_type": "display_data",
          "data": {
            "text/plain": [
              "\u001b[1m Optimizer params: \u001b[0m\u001b[38;5;34m2\u001b[0m (12.00 B)\n"
            ],
            "text/html": [
              "<pre style=\"white-space:pre;overflow-x:auto;line-height:normal;font-family:Menlo,'DejaVu Sans Mono',consolas,'Courier New',monospace\"><span style=\"font-weight: bold\"> Optimizer params: </span><span style=\"color: #00af00; text-decoration-color: #00af00\">2</span> (12.00 B)\n",
              "</pre>\n"
            ]
          },
          "metadata": {}
        }
      ]
    }
  ]
}